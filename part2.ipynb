{
 "cells": [
  {
   "cell_type": "code",
   "execution_count": null,
   "id": "395fa782",
   "metadata": {},
   "outputs": [],
   "source": [
    "from bs4 import BeautifulSoup\n",
    "import requests\n",
    "import pandas as pd\n",
    "import numpy as np\n",
    "from time import sleep\n",
    "import re"
   ]
  },
  {
   "cell_type": "code",
   "execution_count": 18,
   "id": "17e79d60",
   "metadata": {},
   "outputs": [
    {
     "ename": "SyntaxError",
     "evalue": "expected 'except' or 'finally' block (61650156.py, line 36)",
     "output_type": "error",
     "traceback": [
      "\u001b[1;36m  Cell \u001b[1;32mIn[18], line 36\u001b[1;36m\u001b[0m\n\u001b[1;33m    if asin:\u001b[0m\n\u001b[1;37m    ^\u001b[0m\n\u001b[1;31mSyntaxError\u001b[0m\u001b[1;31m:\u001b[0m expected 'except' or 'finally' block\n"
     ]
    }
   ],
   "source": [
    "if __name__ == '__main__':\n",
    "    #headers for request\n",
    "    HEADERS = ({'User-Agent':'user-agent: Mozilla/5.0 (Windows NT 10.0; Win64; x64) AppleWebKit/537.36 (KHTML, like Gecko) Chrome/114.0.0.0 Safari/537.36 ', 'Accept-Language': 'en-US, en;q=0.5'})\n",
    "    #url of the page to be scraped\n",
    "    URL=\"https://www.amazon.in/s?k=bags&crid=2M096C61O4MLT&qid=1653308124&sprefix=ba%2Caps%2C283&ref=sr_pg_1\"\n",
    "\n",
    "    webpage = requests.get(URL, headers=HEADERS)\n",
    "\n",
    "    # Soup Object containing all data in an amazon page\n",
    "    soup = BeautifulSoup(webpage.content, \"html.parser\")\n",
    "    # Fetch links as List of Tag Objects of all the search results\n",
    "    comp=soup.find_all(\"div\", attrs={'data-component-type':'s-search-result'})\n",
    "\n",
    "    #initialize an empty list to store the links\n",
    "    links_list = []\n",
    "    #loop for extracting data from Tag Objects \n",
    "    for i in comp:\n",
    "        link = i.find(\"a\", attrs={'class':'a-link-normal s-no-outline'})\n",
    "        url=\"https://www.amazon.in\" + link.get('href')\n",
    "        links_list.append(url)\n",
    "\n",
    "    # Creating a dictionary having the features as keys\n",
    "    d={\"url\":[], \"description\":[], \"asin\":[], \"product description\":[], \"manufacturer\":[], }\n",
    "    for url in links_list:\n",
    "        webpage = requests.get(url, headers=HEADERS)\n",
    "        d[\"url\"].append(url)\n",
    "        soup=BeautifulSoup(webpage.content,\"html.parser\")\n",
    "        try:\n",
    "            description=soup.find(\"div\", attrs={'id':'feature-bullets'}).text.strip()\n",
    "        except AttributeError:\n",
    "            description = ''\n",
    "        d[\"description\"].append(description)\n",
    "        try:\n",
    "            asin = re.search(r\"/[dg]p/([^/]+)\", url, flags=re.IGNORECASE)\n",
    "            \n",
    "        if asin:\n",
    "            \n",
    "            d[\"asin\"].append(asin.group(1))\n",
    "        try:\n",
    "            productdescription=soup.find(\"div\", attrs={'id':'feature-bullets'}).text.strip()\n",
    "        except AttributeError:\n",
    "            productdescription = ''\n",
    "        d[\"productdescription\"].append(productdescription)     \n",
    "        try:\n",
    "            manufacturer=soup.find(\"div\", attrs={'id':'feature-bullets'}).text.strip()\n",
    "        except AttributeError:\n",
    "            manufacturer = ''\n",
    "        d[\"manufacturer\"].append(manufacturer)\n",
    "        \n",
    "        sleep(5)\n",
    "        \n",
    "    print(d)\n",
    "    \n",
    "    # Converting the dictionary into a pandas dataframe\n",
    "    amazon_df = pd.DataFrame.from_dict(d)\n",
    "    amazon_df['title'].replace('', np.nan, inplace=True)\n",
    "    amazon_df = amazon_df.dropna(subset=['title'])\n",
    "\n",
    "    #saving the dataframe to a csv file\n",
    "    amazon_df.to_csv(\"part2.csv\", header=True, index=False)\n",
    "    print(\"Data saved to csv file\")"
   ]
  },
  {
   "cell_type": "code",
   "execution_count": null,
   "id": "6eefdfdd",
   "metadata": {},
   "outputs": [],
   "source": []
  }
 ],
 "metadata": {
  "kernelspec": {
   "display_name": "Python 3 (ipykernel)",
   "language": "python",
   "name": "python3"
  },
  "language_info": {
   "codemirror_mode": {
    "name": "ipython",
    "version": 3
   },
   "file_extension": ".py",
   "mimetype": "text/x-python",
   "name": "python",
   "nbconvert_exporter": "python",
   "pygments_lexer": "ipython3",
   "version": "3.11.4"
  }
 },
 "nbformat": 4,
 "nbformat_minor": 5
}
