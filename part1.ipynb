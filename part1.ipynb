{
 "cells": [
  {
   "cell_type": "code",
   "execution_count": null,
   "id": "59584aeb",
   "metadata": {},
   "outputs": [],
   "source": [
    "from bs4 import BeautifulSoup\n",
    "import requests\n",
    "import pandas as pd\n",
    "import numpy as np\n",
    "from time import sleep\n"
   ]
  },
  {
   "cell_type": "code",
   "execution_count": 6,
   "id": "d6723c57",
   "metadata": {},
   "outputs": [],
   "source": [
    "\n",
    "if __name__ == '__main__':\n",
    "\n",
    "    HEADERS = ({'User-Agent':'user-agent: Mozilla/5.0 (Windows NT 10.0; Win64; x64) AppleWebKit/537.36 (KHTML, like Gecko) Chrome/114.0.0.0 Safari/537.36 ', 'Accept-Language': 'en-US, en;q=0.5'})\n",
    "    links_list = []\n",
    "    titles_list = []\n",
    "    prices_list = []\n",
    "    ratings_list = []\n",
    "    reviews_list = []\n",
    "    \n",
    "    #loop for extracting data from 20 pages\n",
    "    for i in range(1,21):\n",
    "        URL = \"https://www.amazon.in/s?k=bags&crid=2M096C61O4MLT&qid=1653308124&sprefix=ba%2Caps%2C283&ref=sr_pg_1\"\n",
    "        URL = URL + str(i)\n",
    "\n",
    "        # HTTP Request\n",
    "        webpage = requests.get(URL, headers=HEADERS)\n",
    "\n",
    "        # Soup Object containing all data in an amazon page\n",
    "        soup = BeautifulSoup(webpage.content, \"html.parser\")\n",
    "        # Fetch links as List of Tag Objects of all the search results\n",
    "        comp=soup.find_all(\"div\", attrs={'data-component-type':'s-search-result'})\n",
    "        \n",
    "        #loop for extracting data from Tag Objects\n",
    "        for i in comp:\n",
    "            link = i.find(\"a\", attrs={'class':'a-link-normal s-no-outline'})\n",
    "            url=\"https://www.amazon.in\" + link.get('href')\n",
    "            links_list.append(url)\n",
    "            title = i.find(\"span\", attrs={'class':'a-size-medium a-color-base a-text-normal'}).text.strip()\n",
    "            titles_list.append(title)\n",
    "            price= i.find(\"span\", attrs={'class':'a-price-whole'}).text.strip()\n",
    "            prices_list.append(price)\n",
    "            rating= i.find(\"span\", attrs={'class':'a-icon-alt'}).text.strip()\n",
    "            ratings_list.append(rating)\n",
    "            reviews= i.find(\"span\", attrs={'class':'a-size-base s-underline-text'}).text.strip()\n",
    "            reviews_list.append(reviews)\n",
    "\n",
    "    # Creating a dictionary having the features as keys\n",
    "    d = {\"url\":links_list,\"title\":titles_list, \"price\":prices_list, \"rating\":ratings_list, \"reviews count\":reviews_list}\n",
    "\n",
    "    # Converting dictionary to Pandas Dataframe\n",
    "    amazon_df = pd.DataFrame.from_dict(d)\n",
    "    amazon_df['title'].replace('', np.nan, inplace=True)\n",
    "    amazon_df = amazon_df.dropna(subset=['title'])\n",
    "    amazon_df.to_csv(\"part1.csv\", header=True, index=False)"
   ]
  },
  {
   "cell_type": "code",
   "execution_count": null,
   "id": "bdf4323e",
   "metadata": {},
   "outputs": [],
   "source": []
  },
  {
   "cell_type": "code",
   "execution_count": null,
   "id": "06f302df",
   "metadata": {},
   "outputs": [],
   "source": []
  }
 ],
 "metadata": {
  "kernelspec": {
   "display_name": "Python 3 (ipykernel)",
   "language": "python",
   "name": "python3"
  },
  "language_info": {
   "codemirror_mode": {
    "name": "ipython",
    "version": 3
   },
   "file_extension": ".py",
   "mimetype": "text/x-python",
   "name": "python",
   "nbconvert_exporter": "python",
   "pygments_lexer": "ipython3",
   "version": "3.11.4"
  }
 },
 "nbformat": 4,
 "nbformat_minor": 5
}
